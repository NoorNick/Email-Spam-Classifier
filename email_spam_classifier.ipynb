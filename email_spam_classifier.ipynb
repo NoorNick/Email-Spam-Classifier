{
 "cells": [
  {
   "cell_type": "markdown",
   "id": "57b5fb31",
   "metadata": {},
   "source": [
    "## Email Spam Classifier"
   ]
  },
  {
   "cell_type": "markdown",
   "id": "4d230c5e",
   "metadata": {},
   "source": [
    "### libraries needed"
   ]
  },
  {
   "cell_type": "code",
   "execution_count": 9,
   "id": "d108dada",
   "metadata": {},
   "outputs": [],
   "source": [
    "import numpy as np\n",
    "import pandas as pd\n",
    "from sklearn.naive_bayes import GaussianNB, MultinomialNB, BernoulliNB\n",
    "from sklearn.model_selection import train_test_split\n",
    "from sklearn.metrics import accuracy_score, classification_report"
   ]
  },
  {
   "cell_type": "markdown",
   "id": "a0a9ae00",
   "metadata": {},
   "source": [
    "### Data Preparation"
   ]
  },
  {
   "cell_type": "code",
   "execution_count": 10,
   "id": "6b08f9ab",
   "metadata": {},
   "outputs": [],
   "source": [
    "emails = [\n",
    "    # SPAM\n",
    "    \"Get rich quick! Buy now!\",\n",
    "    \"Win a free iPhone today!\",\n",
    "    \"Free money, act now!\",\n",
    "    \"Congratulations! You've won!\",\n",
    "    \"Click here to claim your prize\",\n",
    "    \"Earn $$$ fast with this trick\",\n",
    "    \"This is not a scam, click now\",\n",
    "    \n",
    "    # NOT SPAM\n",
    "    \"Meeting at 3pm tomorrow\",\n",
    "    \"Project deadline reminder\",\n",
    "    \"Team lunch next week\",\n",
    "    \"Team meeting scheduled for Friday\",\n",
    "    \"Don't forget our call at noon\",\n",
    "    \"Please review the attached file\",\n",
    "    \"Weekly project status update\"\n",
    "]\n",
    "labels = [\n",
    "    1, 1, 1, 1, 1, 1, 1,   # Spam\n",
    "    0, 0, 0, 0, 0, 0, 0    # Not spam\n",
    "]\n",
    "# Split into training and testing sets\n",
    "X_train, X_test, y_train, y_test = train_test_split(\n",
    "    emails, labels, test_size=0.2, random_state=42\n",
    ")"
   ]
  },
  {
   "cell_type": "markdown",
   "id": "8eca39f3",
   "metadata": {},
   "source": [
    "### Text Processing pipeline"
   ]
  },
  {
   "cell_type": "code",
   "execution_count": 11,
   "id": "f7151a8d",
   "metadata": {},
   "outputs": [],
   "source": [
    "from sklearn.feature_extraction.text import TfidfVectorizer\n",
    "from sklearn.pipeline import Pipeline\n",
    "\n",
    "def create_spam_classifier():\n",
    "    return Pipeline([\n",
    "        ('vectorizer', TfidfVectorizer(\n",
    "            lowercase=True,\n",
    "            stop_words='english',\n",
    "            ngram_range=(1, 2),     # unigrams + bigrams\n",
    "            min_df=1,               # keep rare terms\n",
    "            max_df=0.9,             # ignore very frequent words\n",
    "            sublinear_tf=True       # logarithmic scaling of term frequency\n",
    "        )),\n",
    "        ('classifier', MultinomialNB(alpha=0.5))  # Lower alpha = less smoothing\n",
    "    ])\n"
   ]
  },
  {
   "cell_type": "markdown",
   "id": "20b91763",
   "metadata": {},
   "source": [
    "### Train and Evaluate the Model"
   ]
  },
  {
   "cell_type": "code",
   "execution_count": 12,
   "id": "052506c1",
   "metadata": {},
   "outputs": [
    {
     "name": "stdout",
     "output_type": "stream",
     "text": [
      "Accuracy: 0.6666666666666666\n",
      "\n",
      "Classification Report:\n",
      "              precision    recall  f1-score   support\n",
      "\n",
      "           0       1.00      0.50      0.67         2\n",
      "           1       0.50      1.00      0.67         1\n",
      "\n",
      "    accuracy                           0.67         3\n",
      "   macro avg       0.75      0.75      0.67         3\n",
      "weighted avg       0.83      0.67      0.67         3\n",
      "\n"
     ]
    }
   ],
   "source": [
    "# Create and train the model\n",
    "model = create_spam_classifier()\n",
    "model.fit(X_train, y_train)\n",
    "\n",
    "# Make predictions\n",
    "predictions = model.predict(X_test)\n",
    "probabilities = model.predict_proba(X_test)\n",
    "\n",
    "# Evaluate performance\n",
    "print(\"Accuracy:\", accuracy_score(y_test, predictions))\n",
    "print(\"\\nClassification Report:\")\n",
    "print(classification_report(y_test, predictions))"
   ]
  },
  {
   "cell_type": "code",
   "execution_count": 13,
   "id": "ec1509d9",
   "metadata": {},
   "outputs": [
    {
     "name": "stdout",
     "output_type": "stream",
     "text": [
      "\n",
      "Email: Congratulations! You've won a prize!\n",
      "Prediction: Spam\n",
      "Confidence: 84.19%\n",
      "\n",
      "Email: Team meeting scheduled for Friday\n",
      "Prediction: Not Spam\n",
      "Confidence: 82.07%\n"
     ]
    }
   ],
   "source": [
    "# Test with new emails\n",
    "new_emails = [\n",
    "    \"Congratulations! You've won a prize!\",\n",
    "    \"Team meeting scheduled for Friday\"\n",
    "]\n",
    "\n",
    "# Make predictions\n",
    "predictions = model.predict(new_emails)\n",
    "probabilities = model.predict_proba(new_emails)\n",
    "\n",
    "# Print results\n",
    "for email, pred, prob in zip(new_emails, predictions, probabilities):\n",
    "    print(f\"\\nEmail: {email}\")\n",
    "    print(f\"Prediction: {'Spam' if pred == 1 else 'Not Spam'}\")\n",
    "    print(f\"Confidence: {max(prob):.2%}\")"
   ]
  }
 ],
 "metadata": {
  "kernelspec": {
   "display_name": "base",
   "language": "python",
   "name": "python3"
  },
  "language_info": {
   "codemirror_mode": {
    "name": "ipython",
    "version": 3
   },
   "file_extension": ".py",
   "mimetype": "text/x-python",
   "name": "python",
   "nbconvert_exporter": "python",
   "pygments_lexer": "ipython3",
   "version": "3.12.4"
  }
 },
 "nbformat": 4,
 "nbformat_minor": 5
}
